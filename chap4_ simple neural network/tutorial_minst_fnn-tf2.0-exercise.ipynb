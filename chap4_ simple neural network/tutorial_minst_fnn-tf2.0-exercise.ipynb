{
 "cells": [
  {
   "cell_type": "markdown",
   "metadata": {},
   "source": [
    "## 准备数据"
   ]
  },
  {
   "cell_type": "code",
   "execution_count": 2,
   "metadata": {},
   "outputs": [],
   "source": [
    "import os\n",
    "import numpy as np\n",
    "import tensorflow as tf\n",
    "from tensorflow import keras\n",
    "from tensorflow.keras import layers, optimizers, datasets\n",
    "\n",
    "os.environ['TF_CPP_MIN_LOG_LEVEL'] = '2'  # or any {'0', '1', '2'}\n",
    "\n",
    "def mnist_dataset():\n",
    "    (x, y), (x_test, y_test) = datasets.mnist.load_data()\n",
    "    #normalize\n",
    "    x = x/255.0\n",
    "    x_test = x_test/255.0\n",
    "    \n",
    "    return (x, y), (x_test, y_test)"
   ]
  },
  {
   "cell_type": "code",
   "execution_count": 3,
   "metadata": {},
   "outputs": [
    {
     "name": "stdout",
     "output_type": "stream",
     "text": [
      "[(1, 'a'), (2, 'b'), (3, 'c'), (4, 'd')]\n"
     ]
    }
   ],
   "source": [
    "print(list(zip([1, 2, 3, 4], ['a', 'b', 'c', 'd'])))"
   ]
  },
  {
   "cell_type": "markdown",
   "metadata": {},
   "source": [
    "## 建立模型"
   ]
  },
  {
   "cell_type": "code",
   "execution_count": 7,
   "metadata": {},
   "outputs": [],
   "source": [
    "class myModel:\n",
    "    def __init__(self):\n",
    "        ####################\n",
    "        # Declare model parameters\n",
    "        ####################\n",
    "        self.W1 = tf.Variable(shape=[28*28, 100], dtype=tf.float32,initial_value=tf.random.uniform(shape=[28*28, 100],minval=-0.1, maxval=0.1))\n",
    "\n",
    "        self.b1 = tf.Variable(shape=[100], dtype=tf.float32, initial_value=tf.zeros(100))\n",
    "\n",
    "        self.W2 = tf.Variable(shape=[100, 10], dtype=tf.float32,initial_value=tf.random.uniform(shape=[100, 10],minval=-0.1, maxval=0.1))\n",
    "\n",
    "        self.b2 = tf.Variable(shape=[10], dtype=tf.float32, initial_value=tf.zeros(10))\n",
    "        self.trainable_variables = [self.W1, self.W2, self.b1, self.b2]\n",
    "\n",
    "    def __call__(self, x):\n",
    "        ####################\n",
    "        # Implement model function\n",
    "        ####################\n",
    "        flat_x = tf.reshape(x, shape=[-1, 28*28])\n",
    "        h1 = tf.tanh(tf.matmul(flat_x, self.W1) + self.b1)\n",
    "        logits = tf.matmul(h1, self.W2) + self.b2\n",
    "        return logits\n",
    "\n",
    "model = myModel()\n",
    "\n",
    "optimizer = optimizers.Adam()"
   ]
  },
  {
   "cell_type": "markdown",
   "metadata": {},
   "source": [
    "## 计算 loss"
   ]
  },
  {
   "cell_type": "code",
   "execution_count": 8,
   "metadata": {},
   "outputs": [],
   "source": [
    "@tf.function\n",
    "def compute_loss(logits, labels):\n",
    "    return tf.reduce_mean(\n",
    "        tf.nn.sparse_softmax_cross_entropy_with_logits(\n",
    "            logits=logits, labels=labels))\n",
    "\n",
    "@tf.function\n",
    "def compute_accuracy(logits, labels):\n",
    "    predictions = tf.argmax(logits, axis=1)\n",
    "    return tf.reduce_mean(tf.cast(tf.equal(predictions, labels), tf.float32))\n",
    "\n",
    "@tf.function\n",
    "def train_one_step(model, optimizer, x, y):\n",
    "    with tf.GradientTape() as tape:\n",
    "        logits = model(x)\n",
    "        loss = compute_loss(logits, y)\n",
    "\n",
    "    # compute gradient\n",
    "    trainable_vars = [model.W1, model.W2, model.b1, model.b2]\n",
    "    grads = tape.gradient(loss, trainable_vars)\n",
    "    for g, v in zip(grads, trainable_vars):\n",
    "        v.assign_sub(0.01*g)\n",
    "\n",
    "    accuracy = compute_accuracy(logits, y)\n",
    "\n",
    "    # loss and accuracy is scalar tensor\n",
    "    return loss, accuracy\n",
    "\n",
    "@tf.function\n",
    "def test(model, x, y):\n",
    "    logits = model(x)\n",
    "    loss = compute_loss(logits, y)\n",
    "    accuracy = compute_accuracy(logits, y)\n",
    "    return loss, accuracy"
   ]
  },
  {
   "cell_type": "markdown",
   "metadata": {},
   "source": [
    "## 实际训练"
   ]
  },
  {
   "cell_type": "code",
   "execution_count": 9,
   "metadata": {},
   "outputs": [
    {
     "name": "stdout",
     "output_type": "stream",
     "text": [
      "epoch 0 : loss 2.306222 ; accuracy 0.099083334\n",
      "epoch 1 : loss 2.3011875 ; accuracy 0.103366666\n",
      "epoch 2 : loss 2.2961752 ; accuracy 0.10775\n",
      "epoch 3 : loss 2.2911844 ; accuracy 0.11231667\n",
      "epoch 4 : loss 2.2862136 ; accuracy 0.11706667\n",
      "epoch 5 : loss 2.2812636 ; accuracy 0.121316664\n",
      "epoch 6 : loss 2.2763333 ; accuracy 0.12568334\n",
      "epoch 7 : loss 2.2714226 ; accuracy 0.1299\n",
      "epoch 8 : loss 2.2665312 ; accuracy 0.13453333\n",
      "epoch 9 : loss 2.2616584 ; accuracy 0.13915\n",
      "epoch 10 : loss 2.2568038 ; accuracy 0.1445\n",
      "epoch 11 : loss 2.2519677 ; accuracy 0.14935\n",
      "epoch 12 : loss 2.2471485 ; accuracy 0.15443334\n",
      "epoch 13 : loss 2.2423472 ; accuracy 0.15935\n",
      "epoch 14 : loss 2.2375624 ; accuracy 0.16431667\n",
      "epoch 15 : loss 2.2327945 ; accuracy 0.16958334\n",
      "epoch 16 : loss 2.2280426 ; accuracy 0.17548333\n",
      "epoch 17 : loss 2.2233071 ; accuracy 0.18171667\n",
      "epoch 18 : loss 2.218587 ; accuracy 0.18771666\n",
      "epoch 19 : loss 2.2138822 ; accuracy 0.19313334\n",
      "epoch 20 : loss 2.2091925 ; accuracy 0.19903333\n",
      "epoch 21 : loss 2.2045174 ; accuracy 0.20456667\n",
      "epoch 22 : loss 2.199857 ; accuracy 0.21093333\n",
      "epoch 23 : loss 2.195211 ; accuracy 0.21628334\n",
      "epoch 24 : loss 2.1905787 ; accuracy 0.22243333\n",
      "epoch 25 : loss 2.1859605 ; accuracy 0.22838333\n",
      "epoch 26 : loss 2.1813552 ; accuracy 0.23465\n",
      "epoch 27 : loss 2.1767633 ; accuracy 0.2413\n",
      "epoch 28 : loss 2.1721845 ; accuracy 0.24776667\n",
      "epoch 29 : loss 2.1676183 ; accuracy 0.2542\n",
      "epoch 30 : loss 2.1630645 ; accuracy 0.26065\n",
      "epoch 31 : loss 2.158523 ; accuracy 0.26701668\n",
      "epoch 32 : loss 2.1539938 ; accuracy 0.27421665\n",
      "epoch 33 : loss 2.1494765 ; accuracy 0.28046668\n",
      "epoch 34 : loss 2.1449707 ; accuracy 0.28701666\n",
      "epoch 35 : loss 2.1404762 ; accuracy 0.29485\n",
      "epoch 36 : loss 2.1359932 ; accuracy 0.30148333\n",
      "epoch 37 : loss 2.1315212 ; accuracy 0.30811667\n",
      "epoch 38 : loss 2.1270602 ; accuracy 0.31465\n",
      "epoch 39 : loss 2.1226099 ; accuracy 0.32211667\n",
      "epoch 40 : loss 2.11817 ; accuracy 0.32916668\n",
      "epoch 41 : loss 2.1137404 ; accuracy 0.33628333\n",
      "epoch 42 : loss 2.1093214 ; accuracy 0.34385\n",
      "epoch 43 : loss 2.1049123 ; accuracy 0.35086668\n",
      "epoch 44 : loss 2.1005132 ; accuracy 0.35851666\n",
      "epoch 45 : loss 2.0961237 ; accuracy 0.36588332\n",
      "epoch 46 : loss 2.091744 ; accuracy 0.37351668\n",
      "epoch 47 : loss 2.0873737 ; accuracy 0.38045\n",
      "epoch 48 : loss 2.0830126 ; accuracy 0.38728333\n",
      "epoch 49 : loss 2.078661 ; accuracy 0.39395\n",
      "test loss 2.0692005 ; accuracy 0.4033\n"
     ]
    }
   ],
   "source": [
    "train_data, test_data = mnist_dataset()\n",
    "for epoch in range(50):\n",
    "    loss, accuracy = train_one_step(model, optimizer, \n",
    "                                    tf.constant(train_data[0], dtype=tf.float32), \n",
    "                                    tf.constant(train_data[1], dtype=tf.int64))\n",
    "    print('epoch', epoch, ': loss', loss.numpy(), '; accuracy', accuracy.numpy())\n",
    "loss, accuracy = test(model, \n",
    "                      tf.constant(test_data[0], dtype=tf.float32), \n",
    "                      tf.constant(test_data[1], dtype=tf.int64))\n",
    "\n",
    "print('test loss', loss.numpy(), '; accuracy', accuracy.numpy())"
   ]
  }
 ],
 "metadata": {
  "kernelspec": {
   "display_name": "Python 3",
   "language": "python",
   "name": "python3"
  },
  "language_info": {
   "codemirror_mode": {
    "name": "ipython",
    "version": 3
   },
   "file_extension": ".py",
   "mimetype": "text/x-python",
   "name": "python",
   "nbconvert_exporter": "python",
   "pygments_lexer": "ipython3",
   "version": "3.12.2"
  }
 },
 "nbformat": 4,
 "nbformat_minor": 2
}
