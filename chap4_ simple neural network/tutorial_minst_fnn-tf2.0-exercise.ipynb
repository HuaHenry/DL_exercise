{
 "cells": [
  {
   "cell_type": "markdown",
   "metadata": {},
   "source": [
    "## 准备数据"
   ]
  },
  {
   "cell_type": "code",
   "execution_count": 1,
   "metadata": {},
   "outputs": [],
   "source": [
    "import os\n",
    "import numpy as np\n",
    "import tensorflow as tf\n",
    "from tensorflow import keras\n",
    "from tensorflow.keras import layers, optimizers, datasets\n",
    "\n",
    "os.environ['TF_CPP_MIN_LOG_LEVEL'] = '2'  # or any {'0', '1', '2'}\n",
    "\n",
    "def mnist_dataset():\n",
    "    (x, y), (x_test, y_test) = datasets.mnist.load_data()\n",
    "    #normalize\n",
    "    x = x/255.0\n",
    "    x_test = x_test/255.0\n",
    "    \n",
    "    return (x, y), (x_test, y_test)"
   ]
  },
  {
   "cell_type": "code",
   "execution_count": 2,
   "metadata": {},
   "outputs": [
    {
     "name": "stdout",
     "output_type": "stream",
     "text": [
      "[(1, 'a'), (2, 'b'), (3, 'c'), (4, 'd')]\n"
     ]
    }
   ],
   "source": [
    "print(list(zip([1, 2, 3, 4], ['a', 'b', 'c', 'd'])))"
   ]
  },
  {
   "cell_type": "markdown",
   "metadata": {},
   "source": [
    "## 建立模型"
   ]
  },
  {
   "cell_type": "code",
   "execution_count": 4,
   "metadata": {},
   "outputs": [],
   "source": [
    "class myModel:\n",
    "    def __init__(self):\n",
    "        ####################\n",
    "        # Declare model parameters\n",
    "        ####################\n",
    "        self.W1 = tf.Variable(shape=[28*28, 1000], dtype=tf.float32,initial_value=tf.random.uniform(shape=[28*28, 1000],minval=-0.1, maxval=0.1))\n",
    "\n",
    "        self.b1 = tf.Variable(shape=[1000], dtype=tf.float32, initial_value=tf.zeros(1000))\n",
    "\n",
    "        self.W2 = tf.Variable(shape=[1000, 10], dtype=tf.float32,initial_value=tf.random.uniform(shape=[1000, 10],minval=-0.1, maxval=0.1))\n",
    "\n",
    "        self.b2 = tf.Variable(shape=[10], dtype=tf.float32, initial_value=tf.zeros(10))\n",
    "        self.trainable_variables = [self.W1, self.W2, self.b1, self.b2]\n",
    "\n",
    "    def __call__(self, x):\n",
    "        ####################\n",
    "        # Implement model function\n",
    "        ####################\n",
    "        flat_x = tf.reshape(x, shape=[-1, 28*28])\n",
    "        h1 = tf.tanh(tf.matmul(flat_x, self.W1) + self.b1)\n",
    "        logits = tf.matmul(h1, self.W2) + self.b2\n",
    "        return logits\n",
    "\n",
    "model = myModel()\n",
    "\n",
    "optimizer = optimizers.Adam()"
   ]
  },
  {
   "cell_type": "markdown",
   "metadata": {},
   "source": [
    "## 计算 loss"
   ]
  },
  {
   "cell_type": "code",
   "execution_count": 5,
   "metadata": {},
   "outputs": [],
   "source": [
    "@tf.function\n",
    "def compute_loss(logits, labels):\n",
    "    return tf.reduce_mean(\n",
    "        tf.nn.sparse_softmax_cross_entropy_with_logits(\n",
    "            logits=logits, labels=labels))\n",
    "\n",
    "@tf.function\n",
    "def compute_accuracy(logits, labels):\n",
    "    predictions = tf.argmax(logits, axis=1)\n",
    "    return tf.reduce_mean(tf.cast(tf.equal(predictions, labels), tf.float32))\n",
    "\n",
    "@tf.function\n",
    "def train_one_step(model, optimizer, x, y):\n",
    "    with tf.GradientTape() as tape:\n",
    "        logits = model(x)\n",
    "        loss = compute_loss(logits, y)\n",
    "\n",
    "    # compute gradient\n",
    "    trainable_vars = [model.W1, model.W2, model.b1, model.b2]\n",
    "    grads = tape.gradient(loss, trainable_vars)\n",
    "    for g, v in zip(grads, trainable_vars):\n",
    "        v.assign_sub(0.01*g)\n",
    "\n",
    "    accuracy = compute_accuracy(logits, y)\n",
    "\n",
    "    # loss and accuracy is scalar tensor\n",
    "    return loss, accuracy\n",
    "\n",
    "@tf.function\n",
    "def test(model, x, y):\n",
    "    logits = model(x)\n",
    "    loss = compute_loss(logits, y)\n",
    "    accuracy = compute_accuracy(logits, y)\n",
    "    return loss, accuracy"
   ]
  },
  {
   "cell_type": "markdown",
   "metadata": {},
   "source": [
    "## 实际训练"
   ]
  },
  {
   "cell_type": "code",
   "execution_count": 7,
   "metadata": {},
   "outputs": [
    {
     "name": "stdout",
     "output_type": "stream",
     "text": [
      "epoch 0 : loss 2.1680284 ; accuracy 0.23055\n",
      "epoch 1 : loss 2.1247077 ; accuracy 0.25593334\n",
      "epoch 2 : loss 2.083572 ; accuracy 0.27971667\n",
      "epoch 3 : loss 2.0443227 ; accuracy 0.30135\n",
      "epoch 4 : loss 2.0067368 ; accuracy 0.32091665\n",
      "epoch 5 : loss 1.9706458 ; accuracy 0.3405\n",
      "epoch 6 : loss 1.9359204 ; accuracy 0.35985\n",
      "epoch 7 : loss 1.9024585 ; accuracy 0.37908334\n",
      "epoch 8 : loss 1.8701795 ; accuracy 0.39815\n",
      "epoch 9 : loss 1.8390168 ; accuracy 0.41556665\n",
      "epoch 10 : loss 1.8089138 ; accuracy 0.43205\n",
      "epoch 11 : loss 1.7798214 ; accuracy 0.44726667\n",
      "epoch 12 : loss 1.7516955 ; accuracy 0.46293333\n",
      "epoch 13 : loss 1.7244966 ; accuracy 0.47716665\n",
      "epoch 14 : loss 1.6981875 ; accuracy 0.49011666\n",
      "epoch 15 : loss 1.6727333 ; accuracy 0.5024833\n",
      "epoch 16 : loss 1.6481011 ; accuracy 0.51465\n",
      "epoch 17 : loss 1.6242594 ; accuracy 0.5264\n",
      "epoch 18 : loss 1.601178 ; accuracy 0.53826666\n",
      "epoch 19 : loss 1.578828 ; accuracy 0.5487\n",
      "epoch 20 : loss 1.5571814 ; accuracy 0.55883336\n",
      "epoch 21 : loss 1.5362114 ; accuracy 0.5679833\n",
      "epoch 22 : loss 1.5158921 ; accuracy 0.57663333\n",
      "epoch 23 : loss 1.4961987 ; accuracy 0.5851167\n",
      "epoch 24 : loss 1.4771073 ; accuracy 0.59295\n",
      "epoch 25 : loss 1.4585944 ; accuracy 0.60013336\n",
      "epoch 26 : loss 1.4406383 ; accuracy 0.60798335\n",
      "epoch 27 : loss 1.4232174 ; accuracy 0.6153167\n",
      "epoch 28 : loss 1.4063115 ; accuracy 0.6225\n",
      "epoch 29 : loss 1.3899008 ; accuracy 0.62995\n",
      "epoch 30 : loss 1.3739661 ; accuracy 0.63621664\n",
      "epoch 31 : loss 1.3584899 ; accuracy 0.64173335\n",
      "epoch 32 : loss 1.3434546 ; accuracy 0.64718336\n",
      "epoch 33 : loss 1.3288435 ; accuracy 0.6533333\n",
      "epoch 34 : loss 1.3146406 ; accuracy 0.6587333\n",
      "epoch 35 : loss 1.3008307 ; accuracy 0.6643\n",
      "epoch 36 : loss 1.2873995 ; accuracy 0.66893333\n",
      "epoch 37 : loss 1.2743324 ; accuracy 0.67355\n",
      "epoch 38 : loss 1.2616163 ; accuracy 0.6778833\n",
      "epoch 39 : loss 1.2492384 ; accuracy 0.68221664\n",
      "epoch 40 : loss 1.2371862 ; accuracy 0.6867333\n",
      "epoch 41 : loss 1.2254481 ; accuracy 0.69095\n",
      "epoch 42 : loss 1.2140127 ; accuracy 0.69491667\n",
      "epoch 43 : loss 1.2028692 ; accuracy 0.69836664\n",
      "epoch 44 : loss 1.1920072 ; accuracy 0.7018833\n",
      "epoch 45 : loss 1.1814169 ; accuracy 0.70558333\n",
      "epoch 46 : loss 1.1710887 ; accuracy 0.7094167\n",
      "epoch 47 : loss 1.1610134 ; accuracy 0.71251667\n",
      "epoch 48 : loss 1.1511824 ; accuracy 0.71578336\n",
      "epoch 49 : loss 1.1415874 ; accuracy 0.71851665\n",
      "test loss 1.1089094 ; accuracy 0.733\n"
     ]
    }
   ],
   "source": [
    "train_data, test_data = mnist_dataset()\n",
    "for epoch in range(50):\n",
    "    loss, accuracy = train_one_step(model, optimizer, \n",
    "                                    tf.constant(train_data[0], dtype=tf.float32), \n",
    "                                    tf.constant(train_data[1], dtype=tf.int64))\n",
    "    print('epoch', epoch, ': loss', loss.numpy(), '; accuracy', accuracy.numpy())\n",
    "loss, accuracy = test(model, \n",
    "                      tf.constant(test_data[0], dtype=tf.float32), \n",
    "                      tf.constant(test_data[1], dtype=tf.int64))\n",
    "\n",
    "print('test loss', loss.numpy(), '; accuracy', accuracy.numpy())"
   ]
  }
 ],
 "metadata": {
  "kernelspec": {
   "display_name": "Python 3",
   "language": "python",
   "name": "python3"
  },
  "language_info": {
   "codemirror_mode": {
    "name": "ipython",
    "version": 3
   },
   "file_extension": ".py",
   "mimetype": "text/x-python",
   "name": "python",
   "nbconvert_exporter": "python",
   "pygments_lexer": "ipython3",
   "version": "3.12.2"
  }
 },
 "nbformat": 4,
 "nbformat_minor": 2
}
